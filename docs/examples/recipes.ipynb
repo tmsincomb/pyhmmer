{
 "cells": [
  {
   "cell_type": "markdown",
   "id": "7ef61cee-b754-40bb-9a5d-fc5af9f3afd0",
   "metadata": {},
   "source": [
    "# Recipes"
   ]
  },
  {
   "cell_type": "markdown",
   "id": "e4ec17e8-b02c-48c7-aa56-feae2c375b91",
   "metadata": {},
   "source": [
    "This page references recipes for common operations for the PyHMMER API, similarly to the `itertools` [recipes](https://docs.python.org/3/library/itertools.html#itertools-recipes) from the Python documentation."
   ]
  },
  {
   "cell_type": "markdown",
   "id": "f895db71-5408-48d7-b5f2-909e2900ea47",
   "metadata": {},
   "source": [
    "## Loading multiple HMMs"
   ]
  },
  {
   "cell_type": "markdown",
   "id": "4914a6a6-7d3e-4a6d-ab7b-8cb61b8dc1ac",
   "metadata": {},
   "source": [
    "An adapater for wrapping several `HMMFile` objects into a single one.\n",
    "\n",
    "<div class=\"alert alert-info\">\n",
    "    \n",
    "Credits\n",
    "    \n",
    "Original implementation proposed by [Zachary Kurtz](https://github.com/zdk123) in [#24](https://github.com/althonos/pyhmmer/issues/24), updated to use an `ExitStack` for managing the files.\n",
    "    \n",
    "</div>"
   ]
  },
  {
   "cell_type": "code",
   "execution_count": null,
   "id": "985ae6b7-2a63-4146-9b98-a34801ca162b",
   "metadata": {},
   "outputs": [],
   "source": [
    "import contextlib\n",
    "import itertools\n",
    "import os\n",
    "import typing\n",
    "\n",
    "from pyhmmer.plan7 import HMMFile, HMM\n",
    "\n",
    "class HMMFiles(typing.ContextManager[typing.Iterable[HMM]]):\n",
    "    def __init__(self, *files: 'os.PathLike[bytes]') -> None:\n",
    "        self.stack = contextlib.ExitStack()\n",
    "        self.hmmfiles = [self.stack.enter_context(HMMFile(f)) for f in files]\n",
    "\n",
    "    def __enter__(self) -> typing.Iterable[HMM]:\n",
    "        return itertools.chain.from_iterable(self.hmmfiles)\n",
    "\n",
    "    def __exit__(self, exc_value: object, exc_type: object, traceback: object) -> None:\n",
    "        self.stack.close()"
   ]
  },
  {
   "cell_type": "markdown",
   "id": "dfcb96c9-85c1-4f8d-94a3-ddf274d959ec",
   "metadata": {},
   "source": [
    "To use it with `hmmsearch`, simply create a `HMMFiles` object with the paths for the different HMM files to concatenate. They will be read in the order given as argument."
   ]
  },
  {
   "cell_type": "code",
   "execution_count": null,
   "id": "0a0a3b40-9556-415d-8a73-ed765df33fa4",
   "metadata": {},
   "outputs": [],
   "source": [
    "import pyhmmer\n",
    "from pyhmmer.easel import SequenceFile\n",
    "\n",
    "with SequenceFile(\"data/seqs/938293.PRJEB85.HG003687.faa\", digital=True) as sequences:\n",
    "    targets = sequences.read_block()\n",
    "    \n",
    "with HMMFiles(\"data/hmms/txt/PKSI-AT.hmm\", \"data/hmms/txt/LuxC.hmm\") as hmm_files:\n",
    "    all_hits = list(pyhmmer.hmmsearch(hmm_files, targets))\n",
    "    \n",
    "print(\"HMMs searched:\", len(all_hits))\n",
    "print(\"Hits found:   \", sum(len(hits) for hits in all_hits))"
   ]
  }
 ],
 "metadata": {
  "kernelspec": {
   "display_name": "Python 3 (ipykernel)",
   "language": "python",
   "name": "python3"
  },
  "language_info": {
   "codemirror_mode": {
    "name": "ipython",
    "version": 3
   },
   "file_extension": ".py",
   "mimetype": "text/x-python",
   "name": "python",
   "nbconvert_exporter": "python",
   "pygments_lexer": "ipython3",
   "version": "3.10.10"
  }
 },
 "nbformat": 4,
 "nbformat_minor": 5
}
